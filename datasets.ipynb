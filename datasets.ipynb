{
  "nbformat": 4,
  "nbformat_minor": 0,
  "metadata": {
    "colab": {
      "name": "datasets.ipynb",
      "provenance": [],
      "include_colab_link": true
    },
    "kernelspec": {
      "name": "python3",
      "display_name": "Python 3"
    },
    "accelerator": "GPU"
  },
  "cells": [
    {
      "cell_type": "markdown",
      "metadata": {
        "id": "view-in-github",
        "colab_type": "text"
      },
      "source": [
        "<a href=\"https://colab.research.google.com/github/jesuskaz/dataset/blob/master/datasets.ipynb\" target=\"_parent\"><img src=\"https://colab.research.google.com/assets/colab-badge.svg\" alt=\"Open In Colab\"/></a>"
      ]
    },
    {
      "cell_type": "code",
      "metadata": {
        "id": "FSKGj322lRs9",
        "colab_type": "code",
        "colab": {
          "base_uri": "https://localhost:8080/",
          "height": 272
        },
        "outputId": "6f4f227f-01e3-4192-abfa-ed8b8f24df50"
      },
      "source": [
        "!wget https://github.com/jesuskaz/dataset.git"
      ],
      "execution_count": 11,
      "outputs": [
        {
          "output_type": "stream",
          "text": [
            "--2019-12-23 12:11:25--  https://github.com/jesuskaz/dataset.git\n",
            "Resolving github.com (github.com)... 140.82.118.3\n",
            "Connecting to github.com (github.com)|140.82.118.3|:443... connected.\n",
            "HTTP request sent, awaiting response... 301 Moved Permanently\n",
            "Location: https://github.com/jesuskaz/dataset [following]\n",
            "--2019-12-23 12:11:25--  https://github.com/jesuskaz/dataset\n",
            "Reusing existing connection to github.com:443.\n",
            "HTTP request sent, awaiting response... 200 OK\n",
            "Length: unspecified [text/html]\n",
            "Saving to: ‘dataset.git’\n",
            "\n",
            "\rdataset.git             [<=>                 ]       0  --.-KB/s               \rdataset.git             [ <=>                ]  68.09K   350KB/s    in 0.2s    \n",
            "\n",
            "2019-12-23 12:11:26 (350 KB/s) - ‘dataset.git’ saved [69725]\n",
            "\n"
          ],
          "name": "stdout"
        }
      ]
    }
  ]
}